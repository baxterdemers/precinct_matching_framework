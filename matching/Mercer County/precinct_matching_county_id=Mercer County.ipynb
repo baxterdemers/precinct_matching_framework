{
 "cells": [
  {
   "cell_type": "markdown",
   "metadata": {},
   "source": [
    "# Precinct Matching Framework"
   ]
  },
  {
   "cell_type": "code",
   "execution_count": null,
   "metadata": {},
   "outputs": [],
   "source": [
    "import pandas as pd\n",
    "import geopandas as gpd\n",
    "\n",
    "from reference_data import (\n",
    "    geoid_to_county_name,\n",
    "    state_to_fips,\n",
    "    state_abbreviation_to_state_name,\n",
    "    state_fip_to_county_to_geoid,\n",
    ")"
   ]
  },
  {
   "cell_type": "markdown",
   "metadata": {},
   "source": [
    "### Import the datasets"
   ]
  },
  {
   "cell_type": "code",
   "execution_count": null,
   "metadata": {},
   "outputs": [],
   "source": [
    "county_id = 'Mercer County'\n",
    "\n",
    "county_results_filename = 'election_results_county_id={}.csv'.format(county_id)\n",
    "county_results_df = pd.read_csv(county_results_filename)\n",
    "county_shapefile_filename = 'shapefile_county_id={}'.format(county_id)\n",
    "county_shapefile_gdf = gpd.read_file(county_shapefile_filename)\n",
    "\n",
    "# correct for the truncation caused by 10 character column name limit in shapefiles\n",
    "county_shapefile_gdf.rename(columns={'original_p':'original_precinct_name'}, inplace=True)"
   ]
  },
  {
   "cell_type": "markdown",
   "metadata": {},
   "source": [
    "The next cell aliases `county_results_df` as `df` and `county_shapefile_gdf` as `gdf` here because typing fewer characters allows for faster data exploration. "
   ]
  },
  {
   "cell_type": "code",
   "execution_count": null,
   "metadata": {},
   "outputs": [],
   "source": [
    "df = county_results_df.copy()\n",
    "gdf = county_shapefile_gdf.copy()"
   ]
  },
  {
   "cell_type": "code",
   "execution_count": null,
   "metadata": {},
   "outputs": [],
   "source": [
    "df.head()"
   ]
  },
  {
   "cell_type": "code",
   "execution_count": null,
   "metadata": {},
   "outputs": [],
   "source": [
    "gdf.head()"
   ]
  },
  {
   "cell_type": "markdown",
   "metadata": {},
   "source": [
    "### Check Preconditions\n",
    "These should all pass - they're here to ensure that everything in `config.ipynb` worked correctly"
   ]
  },
  {
   "cell_type": "code",
   "execution_count": null,
   "metadata": {},
   "outputs": [],
   "source": [
    "# TODO: Pass the precondition described above which takes the form of an assert statement in this cell.\n",
    "assert 'county_id' in df.columns and 'county_id' in gdf.columns\n",
    "assert 'original_precinct_name' in df.columns and 'original_precinct_name' in gdf.columns"
   ]
  },
  {
   "cell_type": "markdown",
   "metadata": {},
   "source": [
    "### General Modifications\n",
    "Its benificial to apply some modifications uniformly to all precincts. For example, its good practice to make everything lower case. This modification and other are made in `edit_precinct_name` - read its specification to learn more about how to use it to make modifications."
   ]
  },
  {
   "cell_type": "code",
   "execution_count": 19,
   "metadata": {
    "tags": []
   },
   "outputs": [],
   "source": [
    "# Helper Functions\n",
    "default_remove_lst = []\n",
    "default_target_to_replacement = {'-':' ', '/':' '}\n",
    "default_stopping_words = []\n",
    "\n",
    "def edit_precinct_name(prec_name, \n",
    "    remove_lst=default_remove_lst, \n",
    "    target_to_replacement=default_target_to_replacement,\n",
    "    stopping_words=default_stopping_words,\n",
    "    prec_dict={}):\n",
    "    '''\n",
    "    Returns the a lower case precinct string with certian modifications depending other arguments. \n",
    "    \n",
    "    Modifications are performed in order of the parameters they depend on. By convention, case is \n",
    "    ignored by making prec_name lower case. Accordingly, one should pass arguements with lower case\n",
    "    elements. That is, keys of the dictionaries and elements of lists should be lower case strings.\n",
    "\n",
    "\tParameters:\n",
    "\t\tprec_name (str): precinct name\n",
    "\t\tremove_lst ((str) list): if a string in this list is a substring in prec_name it will be removed. \n",
    "            All elements should be lower case.\n",
    "        target_to_replacement ({str:str} dictionary): keys (targets) will be replaced with their \n",
    "            corresponding value (replacements) in prec_name. All keys should be lower case.\n",
    "        stopping_words ({str} list): If any substring of prec_name contains a element of stopping_words\n",
    "             that is adjacent to a space character it will be removed. All elements should be lower case.\n",
    "        prec_dict ({str:str} dictionary): After all the modifications above, if the edited prec_name\n",
    "            string is in the set of keys for prec_dict, then it will be replaced with that key's value.  \n",
    "            All keys should be lower case.\n",
    "\n",
    "\tReturns:\n",
    "\t\tprec_name (str): prec_name arguement returned with the \n",
    "    '''\n",
    "    prec_name = prec_name.lower()\n",
    "    for word in remove_lst:\n",
    "        prec_name = prec_name.replace(word, '')\n",
    "    for target, replacement in target_to_replacement.items():\n",
    "        prec_name = prec_name.replace(target, replacement)\n",
    "    words = prec_name.split()\n",
    "    words = [word.lstrip('0') for word in words if word not in stopping_words]\n",
    "    prec_name = \" \".join(words)\n",
    "    return prec_dict[prec_name] if prec_name in prec_dict.keys() else prec_name"
   ]
  },
  {
   "cell_type": "code",
   "execution_count": null,
   "metadata": {},
   "outputs": [],
   "source": [
    "from pprint import pprint\n",
    "\n",
    "def row_to_edited_precinct_name(row, county_id_to_precinct_modifications_dictionary_x):\n",
    "    county_id = row['county_id']\n",
    "    original_prec_name = row['original_precinct_name']\n",
    "    county_precinct_modification_dictionary = county_id_to_precinct_modifications_dictionary_x.get(county_id, {})\n",
    "    edited_prec_name = edit_precinct_name(original_prec_name, prec_dict=county_precinct_modification_dictionary)\n",
    "    return edited_prec_name\n",
    "\n",
    "def enumerate_unmatched(precinct_list, unmatched_precincts, dataset_name):\n",
    "    for original_precinct_name, edited_precinct_name in precinct_list:\n",
    "        if edited_precinct_name in unmatched_precincts:\n",
    "            print(\"{} <-- {} ({})\".format(edited_precinct_name, original_precinct_name, dataset_name))  \n",
    "\n",
    "            \n",
    "county_id_to_precinct_modification_dictionary_x = {}\n",
    "df_x['edited_precinct_name'] = df_x.apply(lambda row: row_to_edited_precinct_name(row, county_id_to_precinct_modification_dictionary_x), axis=1)\n",
    "df_x['original_precinct_name, edited_precinct_name'] = df_x[['original_precinct_name','edited_precinct_name']].apply(tuple, axis=1)\n",
    "\n",
    "county_id_to_precinct_modification_dictionary_y = {}\n",
    "df_y['edited_precinct_name'] = df_y.apply(lambda row: row_to_edited_precinct_name(row, county_id_to_precinct_modification_dictionary_y), axis=1)\n",
    "df_y['original_precinct_name, edited_precinct_name'] = df_y[['original_precinct_name','edited_precinct_name']].apply(tuple, axis=1)\n",
    "\n",
    "n_counties = df_x['county_id'].nunique()\n",
    "for idx, county_id in enumerate(df_x['county_id'].unique()):\n",
    "    precinct_list_x = sorted(list(df_x[df_x['county_id'] == county_id]['original_precinct_name, edited_precinct_name'].unique()), key=lambda x: x[1])\n",
    "    precinct_list_y = sorted(list(df_y[df_y['county_id'] == county_id]['original_precinct_name, edited_precinct_name'].unique()), key=lambda x: x[1])\n",
    "\n",
    "    precinct_set_x = {x[1] for x in precinct_list_x if x[1] not in county_to_unmatched_precinct_lst_x.get(county_id, [])}\n",
    "    precinct_set_y = {x[1] for x in precinct_list_y if x[1] not in county_to_unmatched_precinct_lst_y.get(county_id, [])}\n",
    "    \n",
    "    unmatched_precincts_x = sorted(list(precinct_set_x - precinct_set_y))\n",
    "    unmatched_precincts_y = sorted(list(precinct_set_y - precinct_set_x))\n",
    "\n",
    "    if len(unmatched_precincts_x) + len(unmatched_precincts_y) > 0:\n",
    "        print('County {}/{} | {:.2f}% complete.'.format(idx+1,n_counties, (idx+1)/n_counties*100))\n",
    "        print(\"county_id: {} | {} precincts in Kelso | {} precincts in Open Elections:\\n\".format(county_id, len(precinct_list_x), len(precinct_list_y)))\n",
    "        print(\"unmatched_precincts_x:\", unmatched_precincts_x)\n",
    "        print(\"unmatched_precincts_y:\", unmatched_precincts_y)\n",
    "        \n",
    "\n",
    "        if len(unmatched_precincts_x) == len(unmatched_precincts_y):\n",
    "            precinct_modification_dictionary_x_to_y = {unmatched_precincts_x[i]: unmatched_precincts_y[i] for i in range(len(unmatched_precincts_x))}\n",
    "            precinct_modification_dicitonary_y_to_x = {unmatched_precincts_y[i]: unmatched_precincts_x[i] for i in range(len(unmatched_precincts_y))}\n",
    "            print(\"{}  to {} precinct modification dictionary: \".format(dataset_name_x, dataset_name_y))\n",
    "            pprint(precinct_modification_dictionary_x_to_y)\n",
    "            print(\"{}  to {} precinct modification dictionary: \".format(dataset_name_y, dataset_name_x))\n",
    "            pprint(precinct_modification_dicitonary_y_to_x)\n",
    "            \n",
    "        else:\n",
    "            print(\"Add unmatched precincts to the unmatched precinct.\")\n",
    "            break\n",
    "\n",
    "        enumerate_unmatched(precinct_list_x, unmatched_precincts_x, dataset_name_x)\n",
    "        enumerate_unmatched(precinct_list_y, unmatched_precincts_y, dataset_name_y)\n",
    "        break"
   ]
  }
 ],
 "metadata": {
  "kernelspec": {
   "display_name": "Python 3",
   "language": "python",
   "name": "python3"
  },
  "language_info": {
   "codemirror_mode": {
    "name": "ipython",
    "version": 3
   },
   "file_extension": ".py",
   "mimetype": "text/x-python",
   "name": "python",
   "nbconvert_exporter": "python",
   "pygments_lexer": "ipython3",
   "version": "3.7.4"
  }
 },
 "nbformat": 4,
 "nbformat_minor": 4
}
