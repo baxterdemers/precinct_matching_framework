{
 "cells": [
  {
   "cell_type": "markdown",
   "metadata": {},
   "source": [
    "# Pivot and Validate Precinct Level Election Results"
   ]
  },
  {
   "cell_type": "code",
   "execution_count": 1,
   "metadata": {},
   "outputs": [],
   "source": [
    "import pandas as pd\n",
    "import geopandas as gpd\n",
    "import numpy as np"
   ]
  },
  {
   "cell_type": "markdown",
   "metadata": {},
   "source": [
    "### Import the datasets"
   ]
  },
  {
   "cell_type": "code",
   "execution_count": 2,
   "metadata": {},
   "outputs": [
    {
     "data": {
      "text/html": [
       "<div>\n",
       "<style scoped>\n",
       "    .dataframe tbody tr th:only-of-type {\n",
       "        vertical-align: middle;\n",
       "    }\n",
       "\n",
       "    .dataframe tbody tr th {\n",
       "        vertical-align: top;\n",
       "    }\n",
       "\n",
       "    .dataframe thead th {\n",
       "        text-align: right;\n",
       "    }\n",
       "</style>\n",
       "<table border=\"1\" class=\"dataframe\">\n",
       "  <thead>\n",
       "    <tr style=\"text-align: right;\">\n",
       "      <th></th>\n",
       "      <th>county</th>\n",
       "      <th>precinct</th>\n",
       "      <th>office</th>\n",
       "      <th>district</th>\n",
       "      <th>candidate</th>\n",
       "      <th>party</th>\n",
       "      <th>votes</th>\n",
       "      <th>election_day</th>\n",
       "      <th>absentee</th>\n",
       "      <th>machine_votes</th>\n",
       "      <th>absentee_hc</th>\n",
       "      <th>affidavit</th>\n",
       "    </tr>\n",
       "  </thead>\n",
       "  <tbody>\n",
       "    <tr>\n",
       "      <th>0</th>\n",
       "      <td>Chemung</td>\n",
       "      <td>Elmira 0901</td>\n",
       "      <td>Governor</td>\n",
       "      <td>NaN</td>\n",
       "      <td>Andrew Cuomo</td>\n",
       "      <td>Dem</td>\n",
       "      <td>139</td>\n",
       "      <td>NaN</td>\n",
       "      <td>NaN</td>\n",
       "      <td>NaN</td>\n",
       "      <td>NaN</td>\n",
       "      <td>NaN</td>\n",
       "    </tr>\n",
       "    <tr>\n",
       "      <th>1</th>\n",
       "      <td>Chemung</td>\n",
       "      <td>Elmira 0902</td>\n",
       "      <td>Governor</td>\n",
       "      <td>NaN</td>\n",
       "      <td>Andrew Cuomo</td>\n",
       "      <td>Dem</td>\n",
       "      <td>104</td>\n",
       "      <td>NaN</td>\n",
       "      <td>NaN</td>\n",
       "      <td>NaN</td>\n",
       "      <td>NaN</td>\n",
       "      <td>NaN</td>\n",
       "    </tr>\n",
       "  </tbody>\n",
       "</table>\n",
       "</div>"
      ],
      "text/plain": [
       "    county     precinct    office district     candidate party votes  \\\n",
       "0  Chemung  Elmira 0901  Governor      NaN  Andrew Cuomo   Dem   139   \n",
       "1  Chemung  Elmira 0902  Governor      NaN  Andrew Cuomo   Dem   104   \n",
       "\n",
       "   election_day  absentee  machine_votes  absentee_hc  affidavit  \n",
       "0           NaN       NaN            NaN          NaN        NaN  \n",
       "1           NaN       NaN            NaN          NaN        NaN  "
      ]
     },
     "execution_count": 2,
     "metadata": {},
     "output_type": "execute_result"
    }
   ],
   "source": [
    "statewide_election_results_file_path = '20181106__ny__general__precinct.csv'\n",
    "statewide_results_df = pd.read_csv(statewide_election_results_file_path,low_memory=False)\n",
    "statewide_results_df.head(2)"
   ]
  },
  {
   "cell_type": "code",
   "execution_count": 3,
   "metadata": {},
   "outputs": [
    {
     "data": {
      "text/html": [
       "<div>\n",
       "<style scoped>\n",
       "    .dataframe tbody tr th:only-of-type {\n",
       "        vertical-align: middle;\n",
       "    }\n",
       "\n",
       "    .dataframe tbody tr th {\n",
       "        vertical-align: top;\n",
       "    }\n",
       "\n",
       "    .dataframe thead th {\n",
       "        text-align: right;\n",
       "    }\n",
       "</style>\n",
       "<table border=\"1\" class=\"dataframe\">\n",
       "  <thead>\n",
       "    <tr style=\"text-align: right;\">\n",
       "      <th></th>\n",
       "      <th>Andrew M. Cuomo and Kathy C. Hochul (DEM)</th>\n",
       "      <th>Marc Molinaro and Julie Killian (REP)</th>\n",
       "      <th>Marc Molinaro and Julie Killian (CON)</th>\n",
       "      <th>Howie Hawkins and Jia Lee (GRE)</th>\n",
       "      <th>Andrew M. Cuomo and Kathy C. Hochul (WOR)</th>\n",
       "      <th>Andrew M. Cuomo and Kathy C. Hochul (IND)</th>\n",
       "      <th>Andrew M. Cuomo and Kathy C. Hochul (WEP)</th>\n",
       "      <th>Marc Molinaro and Julie Killian (REF)</th>\n",
       "      <th>Larry Sharpe and Andrew C. Hollister (LBT)</th>\n",
       "      <th>Stephanie A. Miner and Michael J. Volpe (SAM)</th>\n",
       "      <th>Blank</th>\n",
       "      <th>Void</th>\n",
       "      <th>Scattering</th>\n",
       "      <th>Total Votes by County</th>\n",
       "    </tr>\n",
       "    <tr>\n",
       "      <th>County</th>\n",
       "      <th></th>\n",
       "      <th></th>\n",
       "      <th></th>\n",
       "      <th></th>\n",
       "      <th></th>\n",
       "      <th></th>\n",
       "      <th></th>\n",
       "      <th></th>\n",
       "      <th></th>\n",
       "      <th></th>\n",
       "      <th></th>\n",
       "      <th></th>\n",
       "      <th></th>\n",
       "      <th></th>\n",
       "    </tr>\n",
       "  </thead>\n",
       "  <tbody>\n",
       "    <tr>\n",
       "      <th>Albany County</th>\n",
       "      <td>54909</td>\n",
       "      <td>38357</td>\n",
       "      <td>6725</td>\n",
       "      <td>3543</td>\n",
       "      <td>2489</td>\n",
       "      <td>1408</td>\n",
       "      <td>886</td>\n",
       "      <td>835</td>\n",
       "      <td>1867</td>\n",
       "      <td>3007</td>\n",
       "      <td>2807</td>\n",
       "      <td>268</td>\n",
       "      <td>195</td>\n",
       "      <td>117,296</td>\n",
       "    </tr>\n",
       "    <tr>\n",
       "      <th>Allegany County</th>\n",
       "      <td>3254</td>\n",
       "      <td>9234</td>\n",
       "      <td>833</td>\n",
       "      <td>183</td>\n",
       "      <td>80</td>\n",
       "      <td>106</td>\n",
       "      <td>46</td>\n",
       "      <td>65</td>\n",
       "      <td>963</td>\n",
       "      <td>117</td>\n",
       "      <td>462</td>\n",
       "      <td>3</td>\n",
       "      <td>7</td>\n",
       "      <td>15,353</td>\n",
       "    </tr>\n",
       "  </tbody>\n",
       "</table>\n",
       "</div>"
      ],
      "text/plain": [
       "                  Andrew M. Cuomo and Kathy C. Hochul (DEM)  \\\n",
       "County                                                        \n",
       "Albany County                                         54909   \n",
       "Allegany County                                        3254   \n",
       "\n",
       "                  Marc Molinaro and Julie Killian (REP)  \\\n",
       "County                                                    \n",
       "Albany County                                     38357   \n",
       "Allegany County                                    9234   \n",
       "\n",
       "                  Marc Molinaro and Julie Killian (CON)  \\\n",
       "County                                                    \n",
       "Albany County                                      6725   \n",
       "Allegany County                                     833   \n",
       "\n",
       "                  Howie Hawkins and Jia Lee (GRE)  \\\n",
       "County                                              \n",
       "Albany County                                3543   \n",
       "Allegany County                               183   \n",
       "\n",
       "                  Andrew M. Cuomo and Kathy C. Hochul (WOR)  \\\n",
       "County                                                        \n",
       "Albany County                                          2489   \n",
       "Allegany County                                          80   \n",
       "\n",
       "                  Andrew M. Cuomo and Kathy C. Hochul (IND)  \\\n",
       "County                                                        \n",
       "Albany County                                          1408   \n",
       "Allegany County                                         106   \n",
       "\n",
       "                  Andrew M. Cuomo and Kathy C. Hochul (WEP)  \\\n",
       "County                                                        \n",
       "Albany County                                           886   \n",
       "Allegany County                                          46   \n",
       "\n",
       "                  Marc Molinaro and Julie Killian (REF)  \\\n",
       "County                                                    \n",
       "Albany County                                       835   \n",
       "Allegany County                                      65   \n",
       "\n",
       "                  Larry Sharpe and Andrew C. Hollister (LBT)  \\\n",
       "County                                                         \n",
       "Albany County                                           1867   \n",
       "Allegany County                                          963   \n",
       "\n",
       "                  Stephanie A. Miner and Michael J. Volpe (SAM)  Blank  Void  \\\n",
       "County                                                                         \n",
       "Albany County                                              3007   2807   268   \n",
       "Allegany County                                             117    462     3   \n",
       "\n",
       "                  Scattering Total Votes by County  \n",
       "County                                              \n",
       "Albany County            195               117,296  \n",
       "Allegany County            7                15,353  "
      ]
     },
     "execution_count": 3,
     "metadata": {},
     "output_type": "execute_result"
    }
   ],
   "source": [
    "official_county_level_election_results_file_path = 'official_county_level_results_2018Governor.csv'\n",
    "official_county_level_election_results_df = pd.read_csv(official_county_level_election_results_file_path,low_memory=False)\n",
    "official_county_level_election_results_df = official_county_level_election_results_df.set_index('County')\n",
    "official_county_level_election_results_df.head(2)"
   ]
  },
  {
   "cell_type": "markdown",
   "metadata": {},
   "source": [
    "The next cell aliases `statewide_results_df` as `df` and `official_county_level_election_results_df` as `odf` because typing fewer characters allows for faster data exploration.  "
   ]
  },
  {
   "cell_type": "code",
   "execution_count": 4,
   "metadata": {},
   "outputs": [],
   "source": [
    "df = statewide_results_df.copy()\n",
    "odf = official_county_level_election_results_df.copy()"
   ]
  },
  {
   "cell_type": "markdown",
   "metadata": {},
   "source": [
    "### Clean `votes`"
   ]
  },
  {
   "cell_type": "code",
   "execution_count": 5,
   "metadata": {},
   "outputs": [
    {
     "name": "stderr",
     "output_type": "stream",
     "text": [
      "/Users/baxterdemers/ny2018/venv/lib/python3.7/site-packages/ipykernel_launcher.py:9: SettingWithCopyWarning: \n",
      "A value is trying to be set on a copy of a slice from a DataFrame.\n",
      "Try using .loc[row_indexer,col_indexer] = value instead\n",
      "\n",
      "See the caveats in the documentation: https://pandas.pydata.org/pandas-docs/stable/user_guide/indexing.html#returning-a-view-versus-a-copy\n",
      "  if __name__ == '__main__':\n"
     ]
    }
   ],
   "source": [
    "def remove_commas(df, col_lst):\n",
    "    \"\"\"\n",
    "    remove commas from the string representation of numbers in the cols in col_lst\n",
    "    :df: DataFrame object\n",
    "    :col_lst: list of strings that are each the name of a column :df:\n",
    "    \"\"\"\n",
    "    for col in col_lst:\n",
    "        if df.dtypes[col] == \"object\":\n",
    "            df[col] = df[col].map(lambda s: s.replace(\",\", \"\"))\n",
    "        df = df.astype({col: \"float\"})\n",
    "        df = df.astype({col: \"int64\"})\n",
    "    return df\n",
    "\n",
    "df = remove_commas(df[df.votes.notna()], ['votes'])"
   ]
  },
  {
   "cell_type": "markdown",
   "metadata": {},
   "source": [
    "### Clean `county`"
   ]
  },
  {
   "cell_type": "code",
   "execution_count": 6,
   "metadata": {},
   "outputs": [],
   "source": [
    "df.county = df.county.str.strip() + ' County'"
   ]
  },
  {
   "cell_type": "markdown",
   "metadata": {},
   "source": [
    "### Clean `office`"
   ]
  },
  {
   "cell_type": "code",
   "execution_count": 7,
   "metadata": {},
   "outputs": [
    {
     "data": {
      "text/plain": [
       "array(['Governor', 'Comptroller', 'Attorney General', 'U.S. Senate',\n",
       "       'U.S. House', 'State Senate', 'State Assembly'], dtype=object)"
      ]
     },
     "execution_count": 7,
     "metadata": {},
     "output_type": "execute_result"
    }
   ],
   "source": [
    "def clean_office(office):\n",
    "    if 'gov' in office.lower():\n",
    "        return 'Governor'\n",
    "    if office == 'U.S.Senate':\n",
    "        return 'U.S. Senate'\n",
    "    if 'U.S.House' in office:\n",
    "        return 'U.S. House'\n",
    "    return office.title().strip()\n",
    "\n",
    "df.office.map(clean_office).unique()"
   ]
  },
  {
   "cell_type": "code",
   "execution_count": 8,
   "metadata": {},
   "outputs": [],
   "source": [
    "df.office = df.office.map(clean_office)"
   ]
  },
  {
   "cell_type": "code",
   "execution_count": 9,
   "metadata": {},
   "outputs": [
    {
     "name": "stdout",
     "output_type": "stream",
     "text": [
      "7\n",
      "['Governor', 'Comptroller', 'Attorney General', 'U.S. Senate', 'U.S. House', 'State Senate', 'State Assembly']\n"
     ]
    }
   ],
   "source": [
    "offices = list(df.office.unique())\n",
    "print(len(offices))\n",
    "print(offices)"
   ]
  },
  {
   "cell_type": "markdown",
   "metadata": {},
   "source": [
    "Ensure that all counties data for each office"
   ]
  },
  {
   "cell_type": "code",
   "execution_count": 10,
   "metadata": {},
   "outputs": [
    {
     "data": {
      "text/plain": [
       "county\n",
       "Albany County                                {State Assembly}\n",
       "Allegany County                                    {Governor}\n",
       "Broome County                                {State Assembly}\n",
       "Chautauqua County                            {State Assembly}\n",
       "Chemung County                               {State Assembly}\n",
       "Clinton County                               {State Assembly}\n",
       "Columbia County               {Comptroller, Attorney General}\n",
       "Cortland County                              {State Assembly}\n",
       "Erie County                                  {State Assembly}\n",
       "Genesee County                                     {Governor}\n",
       "Kings County                                 {State Assembly}\n",
       "Madison County                               {State Assembly}\n",
       "Montgomery County                            {State Assembly}\n",
       "New York County                              {State Assembly}\n",
       "Niagara County                                  {U.S. Senate}\n",
       "Oneida County                                {State Assembly}\n",
       "Orange County          {Governor, State Assembly, U.S. House}\n",
       "Queens County                                   {Comptroller}\n",
       "Richmond County                              {State Assembly}\n",
       "Saratoga County                                  {U.S. House}\n",
       "Schuyler County                                    {Governor}\n",
       "St. Lawrence County                          {State Assembly}\n",
       "Suffolk County                                     {Governor}\n",
       "Tompkins County                              {State Assembly}\n",
       "Warren County                                   {Comptroller}\n",
       "Wayne County                                 {State Assembly}\n",
       "Westchester County                           {State Assembly}\n",
       "Name: office, dtype: object"
      ]
     },
     "execution_count": 10,
     "metadata": {},
     "output_type": "execute_result"
    }
   ],
   "source": [
    "county_to_offices = df.groupby('county').office.unique()\n",
    "county_to_missing_offices = county_to_offices.apply(lambda x: set(offices).difference(x))\n",
    "county_to_missing_offices[county_to_missing_offices != set()]"
   ]
  },
  {
   "cell_type": "code",
   "execution_count": 11,
   "metadata": {},
   "outputs": [
    {
     "name": "stdout",
     "output_type": "stream",
     "text": [
      "7\n"
     ]
    },
    {
     "data": {
      "text/plain": [
       "county\n",
       "Allegany County                {Governor}\n",
       "Genesee County                 {Governor}\n",
       "Niagara County              {U.S. Senate}\n",
       "Orange County      {U.S. House, Governor}\n",
       "Saratoga County              {U.S. House}\n",
       "Schuyler County                {Governor}\n",
       "Suffolk County                 {Governor}\n",
       "Name: office, dtype: object"
      ]
     },
     "execution_count": 11,
     "metadata": {},
     "output_type": "execute_result"
    }
   ],
   "source": [
    "federal_offices = ['Governor', 'U.S. Senate', 'U.S. House']\n",
    "county_to_missing_federal_offices = county_to_offices.apply(lambda x: set(federal_offices).difference(x))\n",
    "counties_missing_federal_offices = county_to_missing_federal_offices[county_to_missing_federal_offices != set()]\n",
    "print(len(counties_missing_federal_offices))\n",
    "counties_missing_federal_offices"
   ]
  },
  {
   "cell_type": "markdown",
   "metadata": {},
   "source": [
    "Seems like Open Elections has more up to date county level files here: https://github.com/openelections/openelections-data-ny/tree/master/2018/counties\n",
    "\n",
    "* Allegany County                {X} https://github.com/openelections/openelections-data-ny/blob/master/2018/counties/20181106__ny__general__allegany__precinct.csv\n",
    "* Genesee County                 {X} https://github.com/openelections/openelections-data-ny/blob/master/2018/counties/20181106__ny__general__genesee__precinct.csv\n",
    "* Niagara County              {X} https://github.com/openelections/openelections-data-ny/blob/master/2018/counties/20181106__ny__general__niagara__precinct.csv\n",
    "* Orange County      {U.S. House, X} https://github.com/openelections/openelections-data-ny/blob/master/2018/counties/20181106__ny__general__orange__precinct.csv\n",
    "* Saratoga County              {X} https://github.com/openelections/openelections-data-ny/blob/master/2018/counties/20181106__ny__general__saratoga__precinct.csv\n",
    "* Schuyler County                {X} https://github.com/openelections/openelections-data-ny/blob/master/2018/counties/20181106__ny__general__schuyler__precinct.csv\n",
    "* Suffolk County                 {X} https://github.com/openelections/openelections-data-ny/blob/master/2018/counties/20181106__ny__general__suffolk__precinct.csv \n",
    "\n",
    "All set with the expection of missing results for the U.S. House race in Orange County."
   ]
  },
  {
   "cell_type": "markdown",
   "metadata": {},
   "source": [
    "### Getting results for U.S. House in Orange County\n",
    "\n",
    "1. Downloaded `data/parse_results/GE18 -CD 18th.pdf` from https://www.orangecountygov.com/DocumentCenter/View/11663/GE18--CD-18th\n",
    "2. Used https://pdftables.com/ to convert the pdf to a csv (`data/parse_results/GE18 -CD 18th.csv`)\n",
    "3. Made some manual tweaks to clean up the handwork of the pdf to csv converter in Numbers (like Excel for Mac OS). Saved it locally at `data/parse_results/GE18-CD-18th-cleaned.csv`\n",
    "4. Imported below\n",
    "\n",
    "Since this data is already pivoted, I will incoperate it after I pivot the rest of the data."
   ]
  },
  {
   "cell_type": "code",
   "execution_count": 33,
   "metadata": {},
   "outputs": [
    {
     "data": {
      "text/html": [
       "<div>\n",
       "<style scoped>\n",
       "    .dataframe tbody tr th:only-of-type {\n",
       "        vertical-align: middle;\n",
       "    }\n",
       "\n",
       "    .dataframe tbody tr th {\n",
       "        vertical-align: top;\n",
       "    }\n",
       "\n",
       "    .dataframe thead th {\n",
       "        text-align: right;\n",
       "    }\n",
       "</style>\n",
       "<table border=\"1\" class=\"dataframe\">\n",
       "  <thead>\n",
       "    <tr style=\"text-align: right;\">\n",
       "      <th></th>\n",
       "      <th>precinct</th>\n",
       "      <th>DEM</th>\n",
       "      <th>REP</th>\n",
       "      <th>CON</th>\n",
       "      <th>WOR</th>\n",
       "      <th>IND</th>\n",
       "      <th>WEP</th>\n",
       "      <th>REF</th>\n",
       "      <th>WRITE IN</th>\n",
       "      <th>BLANK</th>\n",
       "    </tr>\n",
       "  </thead>\n",
       "  <tbody>\n",
       "    <tr>\n",
       "      <th>0</th>\n",
       "      <td>Middletown - Ward 1-1</td>\n",
       "      <td>159</td>\n",
       "      <td>67</td>\n",
       "      <td>7</td>\n",
       "      <td>6</td>\n",
       "      <td>4</td>\n",
       "      <td>2</td>\n",
       "      <td>1</td>\n",
       "      <td>0</td>\n",
       "      <td>11</td>\n",
       "    </tr>\n",
       "    <tr>\n",
       "      <th>1</th>\n",
       "      <td>Middletown - Ward 1-2</td>\n",
       "      <td>79</td>\n",
       "      <td>34</td>\n",
       "      <td>3</td>\n",
       "      <td>1</td>\n",
       "      <td>0</td>\n",
       "      <td>0</td>\n",
       "      <td>0</td>\n",
       "      <td>0</td>\n",
       "      <td>3</td>\n",
       "    </tr>\n",
       "    <tr>\n",
       "      <th>2</th>\n",
       "      <td>Middletown - Ward 1-3</td>\n",
       "      <td>158</td>\n",
       "      <td>47</td>\n",
       "      <td>7</td>\n",
       "      <td>3</td>\n",
       "      <td>2</td>\n",
       "      <td>1</td>\n",
       "      <td>2</td>\n",
       "      <td>0</td>\n",
       "      <td>15</td>\n",
       "    </tr>\n",
       "    <tr>\n",
       "      <th>3</th>\n",
       "      <td>Middletown - Ward 1-4</td>\n",
       "      <td>36</td>\n",
       "      <td>19</td>\n",
       "      <td>0</td>\n",
       "      <td>2</td>\n",
       "      <td>1</td>\n",
       "      <td>0</td>\n",
       "      <td>0</td>\n",
       "      <td>0</td>\n",
       "      <td>3</td>\n",
       "    </tr>\n",
       "    <tr>\n",
       "      <th>4</th>\n",
       "      <td>Middletown - Ward 1-5</td>\n",
       "      <td>139</td>\n",
       "      <td>53</td>\n",
       "      <td>7</td>\n",
       "      <td>6</td>\n",
       "      <td>1</td>\n",
       "      <td>0</td>\n",
       "      <td>1</td>\n",
       "      <td>0</td>\n",
       "      <td>9</td>\n",
       "    </tr>\n",
       "    <tr>\n",
       "      <th>...</th>\n",
       "      <td>...</td>\n",
       "      <td>...</td>\n",
       "      <td>...</td>\n",
       "      <td>...</td>\n",
       "      <td>...</td>\n",
       "      <td>...</td>\n",
       "      <td>...</td>\n",
       "      <td>...</td>\n",
       "      <td>...</td>\n",
       "      <td>...</td>\n",
       "    </tr>\n",
       "    <tr>\n",
       "      <th>329</th>\n",
       "      <td>Woodbury 6</td>\n",
       "      <td>202</td>\n",
       "      <td>191</td>\n",
       "      <td>27</td>\n",
       "      <td>7</td>\n",
       "      <td>6</td>\n",
       "      <td>3</td>\n",
       "      <td>4</td>\n",
       "      <td>0</td>\n",
       "      <td>34</td>\n",
       "    </tr>\n",
       "    <tr>\n",
       "      <th>330</th>\n",
       "      <td>Woodbury 7</td>\n",
       "      <td>192</td>\n",
       "      <td>117</td>\n",
       "      <td>13</td>\n",
       "      <td>3</td>\n",
       "      <td>9</td>\n",
       "      <td>2</td>\n",
       "      <td>8</td>\n",
       "      <td>0</td>\n",
       "      <td>15</td>\n",
       "    </tr>\n",
       "    <tr>\n",
       "      <th>331</th>\n",
       "      <td>Woodbury 8</td>\n",
       "      <td>175</td>\n",
       "      <td>211</td>\n",
       "      <td>27</td>\n",
       "      <td>3</td>\n",
       "      <td>5</td>\n",
       "      <td>1</td>\n",
       "      <td>2</td>\n",
       "      <td>0</td>\n",
       "      <td>13</td>\n",
       "    </tr>\n",
       "    <tr>\n",
       "      <th>332</th>\n",
       "      <td>Woodbury 9</td>\n",
       "      <td>129</td>\n",
       "      <td>36</td>\n",
       "      <td>7</td>\n",
       "      <td>0</td>\n",
       "      <td>1</td>\n",
       "      <td>1</td>\n",
       "      <td>1</td>\n",
       "      <td>0</td>\n",
       "      <td>10</td>\n",
       "    </tr>\n",
       "    <tr>\n",
       "      <th>333</th>\n",
       "      <td>Woodbury 10</td>\n",
       "      <td>321</td>\n",
       "      <td>216</td>\n",
       "      <td>36</td>\n",
       "      <td>14</td>\n",
       "      <td>5</td>\n",
       "      <td>3</td>\n",
       "      <td>9</td>\n",
       "      <td>0</td>\n",
       "      <td>23</td>\n",
       "    </tr>\n",
       "  </tbody>\n",
       "</table>\n",
       "<p>334 rows × 10 columns</p>\n",
       "</div>"
      ],
      "text/plain": [
       "                  precinct  DEM  REP  CON  WOR  IND  WEP  REF  WRITE IN  BLANK\n",
       "0    Middletown - Ward 1-1  159   67    7    6    4    2    1         0     11\n",
       "1    Middletown - Ward 1-2   79   34    3    1    0    0    0         0      3\n",
       "2    Middletown - Ward 1-3  158   47    7    3    2    1    2         0     15\n",
       "3    Middletown - Ward 1-4   36   19    0    2    1    0    0         0      3\n",
       "4    Middletown - Ward 1-5  139   53    7    6    1    0    1         0      9\n",
       "..                     ...  ...  ...  ...  ...  ...  ...  ...       ...    ...\n",
       "329             Woodbury 6  202  191   27    7    6    3    4         0     34\n",
       "330             Woodbury 7  192  117   13    3    9    2    8         0     15\n",
       "331             Woodbury 8  175  211   27    3    5    1    2         0     13\n",
       "332             Woodbury 9  129   36    7    0    1    1    1         0     10\n",
       "333            Woodbury 10  321  216   36   14    5    3    9         0     23\n",
       "\n",
       "[334 rows x 10 columns]"
      ]
     },
     "execution_count": 33,
     "metadata": {},
     "output_type": "execute_result"
    }
   ],
   "source": [
    "df_Orange_HOR = pd.read_csv('data/parse_results/GE18-CD-18th-cleaned.csv')\n",
    "df_Orange_HOR"
   ]
  },
  {
   "cell_type": "markdown",
   "metadata": {},
   "source": [
    "### Patch in Counties that are missing election results\n",
    "\n",
    "For whatever reason, Open Elections has more complete results at the county level. Counties missing election results for federal offices: \n",
    "* Allegany County                {Governor}\n",
    "* Genesee County                 {Governor}\n",
    "* Niagara County              {U.S. Senate}\n",
    "* Orange County      {Governor}\n",
    "* Saratoga County              {U.S. House}\n",
    "* Schuyler County                {Governor}\n",
    "* Suffolk County                 {Governor}"
   ]
  },
  {
   "cell_type": "code",
   "execution_count": 12,
   "metadata": {},
   "outputs": [],
   "source": [
    "df_Allegany = pd.read_csv('data/county_precinct_election_results_oe/20181106__ny__general__allegany__precinct.csv')\n",
    "df_Genesee = pd.read_csv('data/county_precinct_election_results_oe/20181106__ny__general__genesee__precinct.csv')\n",
    "df_Niagara = pd.read_csv('data/county_precinct_election_results_oe/20181106__ny__general__niagara__precinct.csv')\n",
    "df_Orange = pd.read_csv('data/county_precinct_election_results_oe/20181106__ny__general__orange__precinct.csv')\n",
    "df_Saratoga = pd.read_csv('data/county_precinct_election_results_oe/20181106__ny__general__saratoga__precinct.csv')\n",
    "df_Schuyler = pd.read_csv('data/county_precinct_election_results_oe/20181106__ny__general__schuyler__precinct.csv')\n",
    "df_Suffolk = pd.read_csv('data/county_precinct_election_results_oe/20181106__ny__general__suffolk__precinct.csv')"
   ]
  },
  {
   "cell_type": "code",
   "execution_count": 13,
   "metadata": {},
   "outputs": [],
   "source": [
    "county_lst = ['Allegany', 'Genesee', 'Niagara', 'Orange', 'Saratoga', 'Schuyler', 'Suffolk']\n",
    "county_df_lst = [df_Allegany, df_Genesee, df_Niagara, df_Orange, df_Saratoga, df_Schuyler,df_Suffolk]"
   ]
  },
  {
   "cell_type": "code",
   "execution_count": 14,
   "metadata": {},
   "outputs": [],
   "source": [
    "df = df[~df.county.isin(county_lst)]\n",
    "df = df.append(county_df_lst)"
   ]
  },
  {
   "cell_type": "code",
   "execution_count": 15,
   "metadata": {},
   "outputs": [
    {
     "data": {
      "text/plain": [
       "array(['State Assembly', 'State Senate', 'U.S. House', 'U.S. Senate',\n",
       "       'GOVERNOR/ LT.', 'COMPTROLLER', 'ATTORNEY GENERAL'], dtype=object)"
      ]
     },
     "execution_count": 15,
     "metadata": {},
     "output_type": "execute_result"
    }
   ],
   "source": [
    "df[df.county == 'Allegany'].office.unique()"
   ]
  },
  {
   "cell_type": "markdown",
   "metadata": {},
   "source": [
    "### Repeat cleaning"
   ]
  },
  {
   "cell_type": "code",
   "execution_count": 16,
   "metadata": {},
   "outputs": [
    {
     "data": {
      "text/plain": [
       "array(['Governor', 'Comptroller', 'Attorney General', 'U.S. Senate',\n",
       "       'U.S. House', 'State Senate', 'State Assembly'], dtype=object)"
      ]
     },
     "execution_count": 16,
     "metadata": {},
     "output_type": "execute_result"
    }
   ],
   "source": [
    "def clean_office(office):\n",
    "    if 'gov' in office.lower():\n",
    "        return 'Governor'\n",
    "    if office == 'U.S.Senate':\n",
    "        return 'U.S. Senate'\n",
    "    if 'U.S.House' in office:\n",
    "        return 'U.S. House'\n",
    "    return office.title().strip()\n",
    "\n",
    "df.office = df.office.map(clean_office)\n",
    "df = df[df.office.isin(offices)]\n",
    "df.office.unique()"
   ]
  },
  {
   "cell_type": "code",
   "execution_count": 17,
   "metadata": {},
   "outputs": [],
   "source": [
    "df.loc[df.county.isin(county_lst), 'county'] = df.loc[df.county.isin(county_lst),'county'].str.strip() + ' County'"
   ]
  },
  {
   "cell_type": "markdown",
   "metadata": {},
   "source": [
    "Ensure that all counties data for each office"
   ]
  },
  {
   "cell_type": "code",
   "execution_count": 31,
   "metadata": {},
   "outputs": [
    {
     "name": "stdout",
     "output_type": "stream",
     "text": [
      "21\n"
     ]
    },
    {
     "data": {
      "text/plain": [
       "county\n",
       "Albany County                         {State Assembly}\n",
       "Broome County                         {State Assembly}\n",
       "Chautauqua County                     {State Assembly}\n",
       "Chemung County                        {State Assembly}\n",
       "Clinton County                        {State Assembly}\n",
       "Columbia County        {Comptroller, Attorney General}\n",
       "Cortland County                       {State Assembly}\n",
       "Erie County                           {State Assembly}\n",
       "Kings County                          {State Assembly}\n",
       "Madison County                        {State Assembly}\n",
       "Montgomery County                     {State Assembly}\n",
       "New York County                       {State Assembly}\n",
       "Oneida County                         {State Assembly}\n",
       "Orange County             {State Assembly, U.S. House}\n",
       "Queens County                            {Comptroller}\n",
       "Richmond County                       {State Assembly}\n",
       "St. Lawrence County                   {State Assembly}\n",
       "Tompkins County                       {State Assembly}\n",
       "Warren County                            {Comptroller}\n",
       "Wayne County                          {State Assembly}\n",
       "Westchester County                    {State Assembly}\n",
       "Name: office, dtype: object"
      ]
     },
     "execution_count": 31,
     "metadata": {},
     "output_type": "execute_result"
    }
   ],
   "source": [
    "county_to_offices = df.groupby('county').office.unique()\n",
    "county_to_missing_offices = county_to_offices.apply(lambda x: set(offices).difference(x))\n",
    "county_to_missing_offices = county_to_missing_offices[county_to_missing_offices != set()]\n",
    "print(len(county_to_missing_offices))\n",
    "county_to_missing_offices"
   ]
  },
  {
   "cell_type": "code",
   "execution_count": 30,
   "metadata": {},
   "outputs": [
    {
     "name": "stdout",
     "output_type": "stream",
     "text": [
      "1\n"
     ]
    },
    {
     "data": {
      "text/plain": [
       "county\n",
       "Orange County    {U.S. House}\n",
       "Name: office, dtype: object"
      ]
     },
     "execution_count": 30,
     "metadata": {},
     "output_type": "execute_result"
    }
   ],
   "source": [
    "federal_offices = ['Governor', 'U.S. Senate', 'U.S. House']\n",
    "county_to_missing_federal_offices = county_to_offices.apply(lambda x: set(federal_offices).difference(x))\n",
    "counties_missing_federal_offices = county_to_missing_federal_offices[county_to_missing_federal_offices != set()]\n",
    "print(len(counties_missing_federal_offices))\n",
    "counties_missing_federal_offices"
   ]
  },
  {
   "cell_type": "markdown",
   "metadata": {},
   "source": [
    "df_Orange.office.unique()"
   ]
  },
  {
   "cell_type": "markdown",
   "metadata": {},
   "source": [
    "https://ballotpedia.org/New_York%27s_18th_Congressional_District_election,_2018"
   ]
  },
  {
   "cell_type": "markdown",
   "metadata": {},
   "source": [
    "### Clean `party`"
   ]
  },
  {
   "cell_type": "markdown",
   "metadata": {},
   "source": [
    "The oficial parties in New York are [defined as](https://www.elections.ny.gov/CFCommittees.html)\n",
    "\n",
    "- Democratic\n",
    "- Republican\n",
    "- Conservative\n",
    "- Working Families\n",
    "- Green\n",
    "- Libertarian\n",
    "- Independence\n",
    "- SAM\n",
    "\n",
    "Since the official results also included `WEP (Women's Equality Party)` and `REF (Reform Party of New York State)` I will include those as well."
   ]
  },
  {
   "cell_type": "code",
   "execution_count": 23,
   "metadata": {},
   "outputs": [
    {
     "data": {
      "text/plain": [
       "89"
      ]
     },
     "execution_count": 23,
     "metadata": {},
     "output_type": "execute_result"
    }
   ],
   "source": [
    "df.party.nunique()"
   ]
  },
  {
   "cell_type": "code",
   "execution_count": 29,
   "metadata": {},
   "outputs": [
    {
     "data": {
      "text/plain": [
       "10"
      ]
     },
     "execution_count": 29,
     "metadata": {},
     "output_type": "execute_result"
    }
   ],
   "source": [
    "len(parties)"
   ]
  },
  {
   "cell_type": "code",
   "execution_count": 24,
   "metadata": {},
   "outputs": [],
   "source": [
    "official_party_to_abbreviation = {\n",
    "    \"Democratic\":\"DEM\",\n",
    "    \"Republican\":\"REP\",\n",
    "    \"Conservative\":\"CON\",\n",
    "    \"Working Families\":\"WOR\",\n",
    "    \"Green\":\"GRE\",\n",
    "    \"Libertarian\":\"LBT\",\n",
    "    \"Independence\":\"IND\",\n",
    "    \"SAM\": \"SAM\",\n",
    "    \"Women's Equality Party\":\"WEP\",\n",
    "    \"Reform Party\":\"REF\",\n",
    "}\n",
    "\n",
    "parties = set(official_party_to_abbreviation.values())\n",
    "misc = {'BLANK, VOID OR SCATTERED', 'WRITEIN', 'OVERVOTE', 'UNDERVOTE', 'UNQUALIFIED WRITE-INS'}"
   ]
  },
  {
   "cell_type": "code",
   "execution_count": 25,
   "metadata": {},
   "outputs": [],
   "source": [
    "party_lookup_table = {\n",
    "    'DEMOCRATIC':'DEM',\n",
    "    '0':'BLANK, VOID OR SCATTERED',\n",
    "    '1635':'BLANK, VOID OR SCATTERED',\n",
    "    '4328':'BLANK, VOID OR SCATTERED',\n",
    "    'BLANK & VOID':'BLANK, VOID OR SCATTERED',\n",
    "    'BLANKS':'BLANK, VOID OR SCATTERED',\n",
    "    'BLANKS & VOID':'BLANK, VOID OR SCATTERED',\n",
    "    'IND': 'IND',\n",
    "    'REP': 'REP',\n",
    " 'Write': 'Write',\n",
    " 'DEM': 'DEM',\n",
    " 'CON': 'CON',\n",
    " 'SAM': 'SAM',\n",
    "     'GRE': 'GRE',\n",
    " 'WOR': 'WOR',\n",
    " 'REF': 'REF',\n",
    " 'WEP': 'WEP',\n",
    " 'LBT': 'LBT',\n",
    " 'WRI':'WRITEIN',\n",
    " 'WRITE IN':'WRITEIN',\n",
    " 'WRITE INS':'WRITEIN',\n",
    " 'WRITE-IN':'WRITEIN',\n",
    " 'WRITE-INS':'WRITEIN',\n",
    " 'WRITEIN':'WRITEIN',\n",
    " 'WRITEINS':'WRITEIN',\n",
    "     'VOID':'BLANK, VOID OR SCATTERED',\n",
    " 'VOIDS':'BLANK, VOID OR SCATTERED',\n",
    " 'VOIDS/BLANKS':'BLANK, VOID OR SCATTERED',\n",
    "    'GREEN':'GRE',\n",
    " 'GRN':'GRE',\n",
    "     'BLANK':'BLANK, VOID OR SCATTERED',\n",
    " 'BLANK VOTES':'BLANK, VOID OR SCATTERED',\n",
    " 'BLANK/VOID':'BLANK, VOID OR SCATTERED',\n",
    "     'LIB':'LBT',\n",
    " 'LIBERTARIAN':'LBT',\n",
    "    'SCATTER':'BLANK, VOID OR SCATTERED',\n",
    " 'SCATTERED':'BLANK, VOID OR SCATTERED',\n",
    " 'SCATTERING':'BLANK, VOID OR SCATTERED',\n",
    " 'SCATTERINGS':'BLANK, VOID OR SCATTERED',\n",
    "'CONSERVATIVE':'CON',\n",
    "         'OVER':'OVERVOTE',\n",
    " 'OVER VOTES':'OVERVOTE',\n",
    " 'OVERVOTE':'OVERVOTE',\n",
    " 'OVERVOTES':'OVERVOTE',\n",
    " 'UNDER':'UNDERVOTE',\n",
    " 'UNDER VOTES':'UNDERVOTE',\n",
    " 'UNDER/OVER':'UNDERVOTE',\n",
    " 'UNDER/OVER VOTES':'UNDERVOTE',\n",
    " 'UNDERVOTE':'UNDERVOTE',\n",
    " 'UNDERVOTES':'UNDERVOTE',\n",
    "    'REPUBLICAN':'REP',\n",
    "    'REFORM':'REF',\n",
    "   'REFORM PARTY':'REF',\n",
    "    'INDEPENDENCE':'IND',\n",
    "    'WFP':'WOR',\n",
    "    'WF':'WOR',\n",
    "    \"WOMEN'S EQUALITY PARTY\":'WEP',\n",
    "    \"WOMEN'S EQUALITY\":\"WEP\",\n",
    "    # ballotpedia lookups\n",
    "    'GLOGOWSKI':'LBT',\n",
    "    \"CHRISTOPHER B. GARVEY\":'LBT',\n",
    "    'SEAMANS':'DEM',\n",
    "    'DINAPOLI':'DEM',\n",
    "    'GILLIBRAND':'DEM',\n",
    "    'JAMES': 'DEM',\n",
    "    'COLLINS':'REP',\n",
    "    'TRICHTER':'REP',\n",
    "    'CC FARLEY':'REP',\n",
    "    'WOFFORD':'REP',\n",
    "    'RANZENHOFER':'REP',\n",
    "    'HAWLEY':'REP',\n",
    "    'MCMURRAY':'DEM',\n",
    "}\n",
    "\n",
    "def clean_party(party):\n",
    "    if (type(party) != str):\n",
    "        return 'nS'\n",
    "    cleaned_party = party.strip().upper()\n",
    "    looked_up_party = party_lookup_table.get(cleaned_party, cleaned_party)\n",
    "    return official_party_to_abbreviation.get(looked_up_party.title(), looked_up_party)"
   ]
  },
  {
   "cell_type": "code",
   "execution_count": 26,
   "metadata": {},
   "outputs": [
    {
     "ename": "ValueError",
     "evalue": "cannot reindex from a duplicate axis",
     "output_type": "error",
     "traceback": [
      "\u001b[0;31m---------------------------------------------------------------------------\u001b[0m",
      "\u001b[0;31mValueError\u001b[0m                                Traceback (most recent call last)",
      "\u001b[0;32m<ipython-input-26-0d5d5d329a6e>\u001b[0m in \u001b[0;36m<module>\u001b[0;34m\u001b[0m\n\u001b[0;32m----> 1\u001b[0;31m \u001b[0mdf\u001b[0m\u001b[0;34m.\u001b[0m\u001b[0mloc\u001b[0m\u001b[0;34m[\u001b[0m\u001b[0mdf\u001b[0m\u001b[0;34m.\u001b[0m\u001b[0mparty\u001b[0m\u001b[0;34m.\u001b[0m\u001b[0misna\u001b[0m\u001b[0;34m(\u001b[0m\u001b[0;34m)\u001b[0m\u001b[0;34m,\u001b[0m\u001b[0;34m'party'\u001b[0m\u001b[0;34m]\u001b[0m \u001b[0;34m=\u001b[0m \u001b[0mdf\u001b[0m\u001b[0;34m.\u001b[0m\u001b[0mcandidate\u001b[0m\u001b[0;34m\u001b[0m\u001b[0;34m\u001b[0m\u001b[0m\n\u001b[0m\u001b[1;32m      2\u001b[0m df = df.loc[~(df.party.str.upper().isin([\n\u001b[1;32m      3\u001b[0m         \u001b[0;34m'BALLOTS CAST'\u001b[0m\u001b[0;34m,\u001b[0m\u001b[0;34m\u001b[0m\u001b[0;34m\u001b[0m\u001b[0m\n\u001b[1;32m      4\u001b[0m         \u001b[0;34m'TOTAL'\u001b[0m\u001b[0;34m,\u001b[0m\u001b[0;34m\u001b[0m\u001b[0;34m\u001b[0m\u001b[0m\n\u001b[1;32m      5\u001b[0m         \u001b[0;34m'TOTAL BALLOTS'\u001b[0m\u001b[0;34m,\u001b[0m\u001b[0;34m\u001b[0m\u001b[0;34m\u001b[0m\u001b[0m\n",
      "\u001b[0;32m~/ny2018/venv/lib/python3.7/site-packages/pandas/core/indexing.py\u001b[0m in \u001b[0;36m__setitem__\u001b[0;34m(self, key, value)\u001b[0m\n\u001b[1;32m    668\u001b[0m \u001b[0;34m\u001b[0m\u001b[0m\n\u001b[1;32m    669\u001b[0m         \u001b[0miloc\u001b[0m \u001b[0;34m=\u001b[0m \u001b[0mself\u001b[0m \u001b[0;32mif\u001b[0m \u001b[0mself\u001b[0m\u001b[0;34m.\u001b[0m\u001b[0mname\u001b[0m \u001b[0;34m==\u001b[0m \u001b[0;34m\"iloc\"\u001b[0m \u001b[0;32melse\u001b[0m \u001b[0mself\u001b[0m\u001b[0;34m.\u001b[0m\u001b[0mobj\u001b[0m\u001b[0;34m.\u001b[0m\u001b[0miloc\u001b[0m\u001b[0;34m\u001b[0m\u001b[0;34m\u001b[0m\u001b[0m\n\u001b[0;32m--> 670\u001b[0;31m         \u001b[0miloc\u001b[0m\u001b[0;34m.\u001b[0m\u001b[0m_setitem_with_indexer\u001b[0m\u001b[0;34m(\u001b[0m\u001b[0mindexer\u001b[0m\u001b[0;34m,\u001b[0m \u001b[0mvalue\u001b[0m\u001b[0;34m)\u001b[0m\u001b[0;34m\u001b[0m\u001b[0;34m\u001b[0m\u001b[0m\n\u001b[0m\u001b[1;32m    671\u001b[0m \u001b[0;34m\u001b[0m\u001b[0m\n\u001b[1;32m    672\u001b[0m     \u001b[0;32mdef\u001b[0m \u001b[0m_validate_key\u001b[0m\u001b[0;34m(\u001b[0m\u001b[0mself\u001b[0m\u001b[0;34m,\u001b[0m \u001b[0mkey\u001b[0m\u001b[0;34m,\u001b[0m \u001b[0maxis\u001b[0m\u001b[0;34m:\u001b[0m \u001b[0mint\u001b[0m\u001b[0;34m)\u001b[0m\u001b[0;34m:\u001b[0m\u001b[0;34m\u001b[0m\u001b[0;34m\u001b[0m\u001b[0m\n",
      "\u001b[0;32m~/ny2018/venv/lib/python3.7/site-packages/pandas/core/indexing.py\u001b[0m in \u001b[0;36m_setitem_with_indexer\u001b[0;34m(self, indexer, value)\u001b[0m\n\u001b[1;32m   1640\u001b[0m \u001b[0;34m\u001b[0m\u001b[0m\n\u001b[1;32m   1641\u001b[0m             \u001b[0;32mif\u001b[0m \u001b[0misinstance\u001b[0m\u001b[0;34m(\u001b[0m\u001b[0mvalue\u001b[0m\u001b[0;34m,\u001b[0m \u001b[0mABCSeries\u001b[0m\u001b[0;34m)\u001b[0m\u001b[0;34m:\u001b[0m\u001b[0;34m\u001b[0m\u001b[0;34m\u001b[0m\u001b[0m\n\u001b[0;32m-> 1642\u001b[0;31m                 \u001b[0mvalue\u001b[0m \u001b[0;34m=\u001b[0m \u001b[0mself\u001b[0m\u001b[0;34m.\u001b[0m\u001b[0m_align_series\u001b[0m\u001b[0;34m(\u001b[0m\u001b[0mindexer\u001b[0m\u001b[0;34m,\u001b[0m \u001b[0mvalue\u001b[0m\u001b[0;34m)\u001b[0m\u001b[0;34m\u001b[0m\u001b[0;34m\u001b[0m\u001b[0m\n\u001b[0m\u001b[1;32m   1643\u001b[0m \u001b[0;34m\u001b[0m\u001b[0m\n\u001b[1;32m   1644\u001b[0m             \u001b[0minfo_idx\u001b[0m \u001b[0;34m=\u001b[0m \u001b[0mindexer\u001b[0m\u001b[0;34m[\u001b[0m\u001b[0minfo_axis\u001b[0m\u001b[0;34m]\u001b[0m\u001b[0;34m\u001b[0m\u001b[0;34m\u001b[0m\u001b[0m\n",
      "\u001b[0;32m~/ny2018/venv/lib/python3.7/site-packages/pandas/core/indexing.py\u001b[0m in \u001b[0;36m_align_series\u001b[0;34m(self, indexer, ser, multiindex_indexer)\u001b[0m\n\u001b[1;32m   1931\u001b[0m                         \u001b[0;32mreturn\u001b[0m \u001b[0mser\u001b[0m\u001b[0;34m.\u001b[0m\u001b[0m_values\u001b[0m\u001b[0;34m.\u001b[0m\u001b[0mcopy\u001b[0m\u001b[0;34m(\u001b[0m\u001b[0;34m)\u001b[0m\u001b[0;34m\u001b[0m\u001b[0;34m\u001b[0m\u001b[0m\n\u001b[1;32m   1932\u001b[0m \u001b[0;34m\u001b[0m\u001b[0m\n\u001b[0;32m-> 1933\u001b[0;31m                     \u001b[0;32mreturn\u001b[0m \u001b[0mser\u001b[0m\u001b[0;34m.\u001b[0m\u001b[0mreindex\u001b[0m\u001b[0;34m(\u001b[0m\u001b[0mnew_ix\u001b[0m\u001b[0;34m)\u001b[0m\u001b[0;34m.\u001b[0m\u001b[0m_values\u001b[0m\u001b[0;34m\u001b[0m\u001b[0;34m\u001b[0m\u001b[0m\n\u001b[0m\u001b[1;32m   1934\u001b[0m \u001b[0;34m\u001b[0m\u001b[0m\n\u001b[1;32m   1935\u001b[0m                 \u001b[0;31m# 2 dims\u001b[0m\u001b[0;34m\u001b[0m\u001b[0;34m\u001b[0m\u001b[0;34m\u001b[0m\u001b[0m\n",
      "\u001b[0;32m~/ny2018/venv/lib/python3.7/site-packages/pandas/core/series.py\u001b[0m in \u001b[0;36mreindex\u001b[0;34m(self, index, **kwargs)\u001b[0m\n\u001b[1;32m   4409\u001b[0m     )\n\u001b[1;32m   4410\u001b[0m     \u001b[0;32mdef\u001b[0m \u001b[0mreindex\u001b[0m\u001b[0;34m(\u001b[0m\u001b[0mself\u001b[0m\u001b[0;34m,\u001b[0m \u001b[0mindex\u001b[0m\u001b[0;34m=\u001b[0m\u001b[0;32mNone\u001b[0m\u001b[0;34m,\u001b[0m \u001b[0;34m**\u001b[0m\u001b[0mkwargs\u001b[0m\u001b[0;34m)\u001b[0m\u001b[0;34m:\u001b[0m\u001b[0;34m\u001b[0m\u001b[0;34m\u001b[0m\u001b[0m\n\u001b[0;32m-> 4411\u001b[0;31m         \u001b[0;32mreturn\u001b[0m \u001b[0msuper\u001b[0m\u001b[0;34m(\u001b[0m\u001b[0;34m)\u001b[0m\u001b[0;34m.\u001b[0m\u001b[0mreindex\u001b[0m\u001b[0;34m(\u001b[0m\u001b[0mindex\u001b[0m\u001b[0;34m=\u001b[0m\u001b[0mindex\u001b[0m\u001b[0;34m,\u001b[0m \u001b[0;34m**\u001b[0m\u001b[0mkwargs\u001b[0m\u001b[0;34m)\u001b[0m\u001b[0;34m\u001b[0m\u001b[0;34m\u001b[0m\u001b[0m\n\u001b[0m\u001b[1;32m   4412\u001b[0m \u001b[0;34m\u001b[0m\u001b[0m\n\u001b[1;32m   4413\u001b[0m     def drop(\n",
      "\u001b[0;32m~/ny2018/venv/lib/python3.7/site-packages/pandas/core/generic.py\u001b[0m in \u001b[0;36mreindex\u001b[0;34m(self, *args, **kwargs)\u001b[0m\n\u001b[1;32m   4460\u001b[0m         \u001b[0;31m# perform the reindex on the axes\u001b[0m\u001b[0;34m\u001b[0m\u001b[0;34m\u001b[0m\u001b[0;34m\u001b[0m\u001b[0m\n\u001b[1;32m   4461\u001b[0m         return self._reindex_axes(\n\u001b[0;32m-> 4462\u001b[0;31m             \u001b[0maxes\u001b[0m\u001b[0;34m,\u001b[0m \u001b[0mlevel\u001b[0m\u001b[0;34m,\u001b[0m \u001b[0mlimit\u001b[0m\u001b[0;34m,\u001b[0m \u001b[0mtolerance\u001b[0m\u001b[0;34m,\u001b[0m \u001b[0mmethod\u001b[0m\u001b[0;34m,\u001b[0m \u001b[0mfill_value\u001b[0m\u001b[0;34m,\u001b[0m \u001b[0mcopy\u001b[0m\u001b[0;34m\u001b[0m\u001b[0;34m\u001b[0m\u001b[0m\n\u001b[0m\u001b[1;32m   4463\u001b[0m         ).__finalize__(self, method=\"reindex\")\n\u001b[1;32m   4464\u001b[0m \u001b[0;34m\u001b[0m\u001b[0m\n",
      "\u001b[0;32m~/ny2018/venv/lib/python3.7/site-packages/pandas/core/generic.py\u001b[0m in \u001b[0;36m_reindex_axes\u001b[0;34m(self, axes, level, limit, tolerance, method, fill_value, copy)\u001b[0m\n\u001b[1;32m   4483\u001b[0m                 \u001b[0mfill_value\u001b[0m\u001b[0;34m=\u001b[0m\u001b[0mfill_value\u001b[0m\u001b[0;34m,\u001b[0m\u001b[0;34m\u001b[0m\u001b[0;34m\u001b[0m\u001b[0m\n\u001b[1;32m   4484\u001b[0m                 \u001b[0mcopy\u001b[0m\u001b[0;34m=\u001b[0m\u001b[0mcopy\u001b[0m\u001b[0;34m,\u001b[0m\u001b[0;34m\u001b[0m\u001b[0;34m\u001b[0m\u001b[0m\n\u001b[0;32m-> 4485\u001b[0;31m                 \u001b[0mallow_dups\u001b[0m\u001b[0;34m=\u001b[0m\u001b[0;32mFalse\u001b[0m\u001b[0;34m,\u001b[0m\u001b[0;34m\u001b[0m\u001b[0;34m\u001b[0m\u001b[0m\n\u001b[0m\u001b[1;32m   4486\u001b[0m             )\n\u001b[1;32m   4487\u001b[0m \u001b[0;34m\u001b[0m\u001b[0m\n",
      "\u001b[0;32m~/ny2018/venv/lib/python3.7/site-packages/pandas/core/generic.py\u001b[0m in \u001b[0;36m_reindex_with_indexers\u001b[0;34m(self, reindexers, fill_value, copy, allow_dups)\u001b[0m\n\u001b[1;32m   4528\u001b[0m                 \u001b[0mfill_value\u001b[0m\u001b[0;34m=\u001b[0m\u001b[0mfill_value\u001b[0m\u001b[0;34m,\u001b[0m\u001b[0;34m\u001b[0m\u001b[0;34m\u001b[0m\u001b[0m\n\u001b[1;32m   4529\u001b[0m                 \u001b[0mallow_dups\u001b[0m\u001b[0;34m=\u001b[0m\u001b[0mallow_dups\u001b[0m\u001b[0;34m,\u001b[0m\u001b[0;34m\u001b[0m\u001b[0;34m\u001b[0m\u001b[0m\n\u001b[0;32m-> 4530\u001b[0;31m                 \u001b[0mcopy\u001b[0m\u001b[0;34m=\u001b[0m\u001b[0mcopy\u001b[0m\u001b[0;34m,\u001b[0m\u001b[0;34m\u001b[0m\u001b[0;34m\u001b[0m\u001b[0m\n\u001b[0m\u001b[1;32m   4531\u001b[0m             )\n\u001b[1;32m   4532\u001b[0m             \u001b[0;31m# If we've made a copy once, no need to make another one\u001b[0m\u001b[0;34m\u001b[0m\u001b[0;34m\u001b[0m\u001b[0;34m\u001b[0m\u001b[0m\n",
      "\u001b[0;32m~/ny2018/venv/lib/python3.7/site-packages/pandas/core/internals/managers.py\u001b[0m in \u001b[0;36mreindex_indexer\u001b[0;34m(self, new_axis, indexer, axis, fill_value, allow_dups, copy, consolidate)\u001b[0m\n\u001b[1;32m   1274\u001b[0m         \u001b[0;31m# some axes don't allow reindexing with dups\u001b[0m\u001b[0;34m\u001b[0m\u001b[0;34m\u001b[0m\u001b[0;34m\u001b[0m\u001b[0m\n\u001b[1;32m   1275\u001b[0m         \u001b[0;32mif\u001b[0m \u001b[0;32mnot\u001b[0m \u001b[0mallow_dups\u001b[0m\u001b[0;34m:\u001b[0m\u001b[0;34m\u001b[0m\u001b[0;34m\u001b[0m\u001b[0m\n\u001b[0;32m-> 1276\u001b[0;31m             \u001b[0mself\u001b[0m\u001b[0;34m.\u001b[0m\u001b[0maxes\u001b[0m\u001b[0;34m[\u001b[0m\u001b[0maxis\u001b[0m\u001b[0;34m]\u001b[0m\u001b[0;34m.\u001b[0m\u001b[0m_can_reindex\u001b[0m\u001b[0;34m(\u001b[0m\u001b[0mindexer\u001b[0m\u001b[0;34m)\u001b[0m\u001b[0;34m\u001b[0m\u001b[0;34m\u001b[0m\u001b[0m\n\u001b[0m\u001b[1;32m   1277\u001b[0m \u001b[0;34m\u001b[0m\u001b[0m\n\u001b[1;32m   1278\u001b[0m         \u001b[0;32mif\u001b[0m \u001b[0maxis\u001b[0m \u001b[0;34m>=\u001b[0m \u001b[0mself\u001b[0m\u001b[0;34m.\u001b[0m\u001b[0mndim\u001b[0m\u001b[0;34m:\u001b[0m\u001b[0;34m\u001b[0m\u001b[0;34m\u001b[0m\u001b[0m\n",
      "\u001b[0;32m~/ny2018/venv/lib/python3.7/site-packages/pandas/core/indexes/base.py\u001b[0m in \u001b[0;36m_can_reindex\u001b[0;34m(self, indexer)\u001b[0m\n\u001b[1;32m   3287\u001b[0m         \u001b[0;31m# trying to reindex on an axis with duplicates\u001b[0m\u001b[0;34m\u001b[0m\u001b[0;34m\u001b[0m\u001b[0;34m\u001b[0m\u001b[0m\n\u001b[1;32m   3288\u001b[0m         \u001b[0;32mif\u001b[0m \u001b[0;32mnot\u001b[0m \u001b[0mself\u001b[0m\u001b[0;34m.\u001b[0m\u001b[0mis_unique\u001b[0m \u001b[0;32mand\u001b[0m \u001b[0mlen\u001b[0m\u001b[0;34m(\u001b[0m\u001b[0mindexer\u001b[0m\u001b[0;34m)\u001b[0m\u001b[0;34m:\u001b[0m\u001b[0;34m\u001b[0m\u001b[0;34m\u001b[0m\u001b[0m\n\u001b[0;32m-> 3289\u001b[0;31m             \u001b[0;32mraise\u001b[0m \u001b[0mValueError\u001b[0m\u001b[0;34m(\u001b[0m\u001b[0;34m\"cannot reindex from a duplicate axis\"\u001b[0m\u001b[0;34m)\u001b[0m\u001b[0;34m\u001b[0m\u001b[0;34m\u001b[0m\u001b[0m\n\u001b[0m\u001b[1;32m   3290\u001b[0m \u001b[0;34m\u001b[0m\u001b[0m\n\u001b[1;32m   3291\u001b[0m     \u001b[0;32mdef\u001b[0m \u001b[0mreindex\u001b[0m\u001b[0;34m(\u001b[0m\u001b[0mself\u001b[0m\u001b[0;34m,\u001b[0m \u001b[0mtarget\u001b[0m\u001b[0;34m,\u001b[0m \u001b[0mmethod\u001b[0m\u001b[0;34m=\u001b[0m\u001b[0;32mNone\u001b[0m\u001b[0;34m,\u001b[0m \u001b[0mlevel\u001b[0m\u001b[0;34m=\u001b[0m\u001b[0;32mNone\u001b[0m\u001b[0;34m,\u001b[0m \u001b[0mlimit\u001b[0m\u001b[0;34m=\u001b[0m\u001b[0;32mNone\u001b[0m\u001b[0;34m,\u001b[0m \u001b[0mtolerance\u001b[0m\u001b[0;34m=\u001b[0m\u001b[0;32mNone\u001b[0m\u001b[0;34m)\u001b[0m\u001b[0;34m:\u001b[0m\u001b[0;34m\u001b[0m\u001b[0;34m\u001b[0m\u001b[0m\n",
      "\u001b[0;31mValueError\u001b[0m: cannot reindex from a duplicate axis"
     ]
    }
   ],
   "source": [
    "df.loc[df.party.isna(),'party'] = df.candidate\n",
    "df = df.loc[~(df.party.str.upper().isin([\n",
    "        'BALLOTS CAST',\n",
    "        'TOTAL',\n",
    "        'TOTAL BALLOTS',\n",
    "        'TOTAL VOTES',\n",
    "        'REGISTERED VOTERS',\n",
    "        'FEDERAL',\n",
    "        'FEDERAL BALLOTS',\n",
    "        'FEDERAL VOTES',\n",
    "        'STATE BALLOTS',\n",
    "        'STATE VOTES',\n",
    "        'REGISTERED',\n",
    "        'PUBLIC COUNTER',]))\n",
    "        ]"
   ]
  },
  {
   "cell_type": "code",
   "execution_count": null,
   "metadata": {},
   "outputs": [],
   "source": [
    "df['party'] = df.party.map(clean_party)\n",
    "df = df[df.party.isin(parties)]\n",
    "value_counts = df.groupby('party').votes.sum()\n",
    "print(value_counts[value_counts > 1000].shape)\n",
    "value_counts[value_counts > 1000].sort_values().tail(60)"
   ]
  },
  {
   "cell_type": "code",
   "execution_count": null,
   "metadata": {},
   "outputs": [],
   "source": [
    "df.office.unique()"
   ]
  },
  {
   "cell_type": "code",
   "execution_count": null,
   "metadata": {},
   "outputs": [],
   "source": [
    "office_to_abbreviation = {\n",
    "    'Governor':'Gov', \n",
    "    'Comptroller':'Compt', \n",
    "    'Attorney General':'AG',\n",
    "    'U.S. Senate':'Sen',\n",
    "    'U.S. House':'HOR',\n",
    "    'State Senate':'StSen', \n",
    "    'State Assembly':'StAssy'\n",
    "}"
   ]
  },
  {
   "cell_type": "code",
   "execution_count": null,
   "metadata": {},
   "outputs": [],
   "source": [
    "df.office = df.office.map(office_to_abbreviation)"
   ]
  },
  {
   "cell_type": "code",
   "execution_count": null,
   "metadata": {},
   "outputs": [],
   "source": [
    "df.head()"
   ]
  },
  {
   "cell_type": "code",
   "execution_count": null,
   "metadata": {},
   "outputs": [],
   "source": [
    "piv = pd.pivot_table(df, index = ['county', 'precinct'], columns = ['office','party'], values = ['votes'], aggfunc = np.sum)"
   ]
  },
  {
   "cell_type": "code",
   "execution_count": null,
   "metadata": {},
   "outputs": [],
   "source": [
    "piv.columns = [office + '_' + party for _,office,party in piv.columns]\n",
    "piv.head()"
   ]
  },
  {
   "cell_type": "code",
   "execution_count": null,
   "metadata": {},
   "outputs": [],
   "source": [
    "piv.groupby('county').sum()"
   ]
  },
  {
   "cell_type": "markdown",
   "metadata": {},
   "source": [
    "## Validation\n",
    "\n",
    "Compare the precinct level election results to official county level election results released by New York's Secretary of State"
   ]
  },
  {
   "cell_type": "markdown",
   "metadata": {},
   "source": [
    "### Clean up the pivoted data"
   ]
  },
  {
   "cell_type": "code",
   "execution_count": null,
   "metadata": {},
   "outputs": [],
   "source": [
    "piv = remove_commas(piv.fillna(0), piv.columns)"
   ]
  },
  {
   "cell_type": "code",
   "execution_count": null,
   "metadata": {},
   "outputs": [],
   "source": [
    "res_gov = piv.groupby('county').sum()[[x for x in piv.columns if x.startswith('Gov')]]\n",
    "res_gov.head()"
   ]
  },
  {
   "cell_type": "code",
   "execution_count": null,
   "metadata": {},
   "outputs": [],
   "source": [
    "res_gov.columns = [x.split('_')[1] for x in res_gov.columns]\n",
    "res_gov.head()"
   ]
  },
  {
   "cell_type": "code",
   "execution_count": null,
   "metadata": {},
   "outputs": [],
   "source": [
    "o_gov = odf[[x for x in odf.columns if '(' in x]]\n",
    "o_gov.columns = [x.split('(')[1][:3] for x in o_gov.columns]\n",
    "o_gov.head()"
   ]
  },
  {
   "cell_type": "code",
   "execution_count": null,
   "metadata": {},
   "outputs": [],
   "source": [
    "party_lst = list(parties)\n",
    "party_lst.sort()\n",
    "party_lst"
   ]
  },
  {
   "cell_type": "markdown",
   "metadata": {},
   "source": [
    "Order columns the same way in both data sets"
   ]
  },
  {
   "cell_type": "code",
   "execution_count": null,
   "metadata": {},
   "outputs": [],
   "source": [
    "o_gov = o_gov[party_lst]\n",
    "o_gov.head(2)"
   ]
  },
  {
   "cell_type": "code",
   "execution_count": null,
   "metadata": {},
   "outputs": [],
   "source": [
    "res_gov = res_gov[party_lst]\n",
    "res_gov.head(2)"
   ]
  },
  {
   "cell_type": "markdown",
   "metadata": {},
   "source": [
    "Allegany seemingly missing results for the govenors race. Will now check out the `df` for other `county, office` tuples that are missing data."
   ]
  },
  {
   "cell_type": "code",
   "execution_count": null,
   "metadata": {},
   "outputs": [],
   "source": [
    "cov = df.groupby(['county', 'office']).votes.sum().sort_values()"
   ]
  },
  {
   "cell_type": "code",
   "execution_count": null,
   "metadata": {},
   "outputs": [],
   "source": [
    "cov['Allegany']"
   ]
  },
  {
   "cell_type": "code",
   "execution_count": null,
   "metadata": {},
   "outputs": [],
   "source": [
    "cov"
   ]
  },
  {
   "cell_type": "code",
   "execution_count": null,
   "metadata": {},
   "outputs": [],
   "source": [
    "df.groupby('county').office.unique()"
   ]
  }
 ],
 "metadata": {
  "kernelspec": {
   "display_name": "Python (ny-venv)",
   "language": "python",
   "name": "venv"
  },
  "language_info": {
   "codemirror_mode": {
    "name": "ipython",
    "version": 3
   },
   "file_extension": ".py",
   "mimetype": "text/x-python",
   "name": "python",
   "nbconvert_exporter": "python",
   "pygments_lexer": "ipython3",
   "version": "3.7.4"
  }
 },
 "nbformat": 4,
 "nbformat_minor": 4
}
