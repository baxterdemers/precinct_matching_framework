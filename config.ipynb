{
 "cells": [
  {
   "cell_type": "markdown",
   "metadata": {},
   "source": [
    "# Config\n",
    "\n",
    "This file should be filled out once per project. It will generate the template that the rest of the project will use."
   ]
  },
  {
   "cell_type": "code",
   "execution_count": 32,
   "metadata": {},
   "outputs": [],
   "source": [
    "import pandas as pd\n",
    "import geopandas as gpd\n",
    "import os\n",
    "from shutil import copyfile\n",
    "\n",
    "from reference_data import (\n",
    "    geoid_to_county_name,\n",
    "    state_to_fips,\n",
    "    state_to_state_po,\n",
    "    state_po_to_state, \n",
    "    state_fip_to_county_to_geoid,\n",
    ")"
   ]
  },
  {
   "cell_type": "code",
   "execution_count": 3,
   "metadata": {},
   "outputs": [
    {
     "name": "stdout",
     "output_type": "stream",
     "text": [
      "State: Pennsylvania  | State Fips: 42  | State PO: PA\n"
     ]
    }
   ],
   "source": [
    "state = \"<REPLACE ME>\"\n",
    "assert state in state_to_fips.keys()\n",
    "state_fips = state_to_fips[state]\n",
    "state_po = state_to_state_po[state]\n",
    "print(\"State:\",state,\" | State Fips:\",state_fips,\" | State PO:\", state_po)"
   ]
  },
  {
   "cell_type": "markdown",
   "metadata": {},
   "source": [
    "Confirm that the cell above prints out the correct information for the state you're working on. \n",
    "\n",
    "The next cell will take in the year for the election you are working on as an input. Then it will make a  congressional district shapefile and county shapefile for the year and state you are working on. The shapefile will be taken from a national shapefile prepared by the [U.S. Census Bureau](https://www.census.gov/). The national congressional shapefiles are stored in this repository at `./data/congressioinal_distric_shapefiles` and the national county shapefiles are stored at `./data/county_shapefiles`.\n",
    "\n",
    "These shapefiles may come in handy as you try to match precincts for the rest of the state. Its worthwhile to make state specific shapefiles (which this next cell does for you) because it will be faster than using the national shapefile.\n",
    "\n",
    "Presently, this codebase supports 2014, 2016, and 2018. Feel free to submit a pull request if you want to add 2020 the Census Buearu publishes `cb_2020_us_county_500k` or `tl_2020_us_cd117`. Of course these aren't essential to have for precinct mathcing. So if you don't want to have these helper files no sweat!"
   ]
  },
  {
   "cell_type": "code",
   "execution_count": 23,
   "metadata": {},
   "outputs": [
    {
     "data": {
      "text/html": [
       "<div>\n",
       "<style scoped>\n",
       "    .dataframe tbody tr th:only-of-type {\n",
       "        vertical-align: middle;\n",
       "    }\n",
       "\n",
       "    .dataframe tbody tr th {\n",
       "        vertical-align: top;\n",
       "    }\n",
       "\n",
       "    .dataframe thead th {\n",
       "        text-align: right;\n",
       "    }\n",
       "</style>\n",
       "<table border=\"1\" class=\"dataframe\">\n",
       "  <thead>\n",
       "    <tr style=\"text-align: right;\">\n",
       "      <th></th>\n",
       "      <th>index</th>\n",
       "      <th>NAME</th>\n",
       "      <th>COUNTYFP</th>\n",
       "      <th>geometry</th>\n",
       "    </tr>\n",
       "  </thead>\n",
       "  <tbody>\n",
       "    <tr>\n",
       "      <th>0</th>\n",
       "      <td>238</td>\n",
       "      <td>Armstrong</td>\n",
       "      <td>005</td>\n",
       "      <td>POLYGON ((-79.69293 40.66974, -79.69252 40.673...</td>\n",
       "    </tr>\n",
       "    <tr>\n",
       "      <th>1</th>\n",
       "      <td>239</td>\n",
       "      <td>Chester</td>\n",
       "      <td>029</td>\n",
       "      <td>MULTIPOLYGON (((-75.59129 39.84044, -75.58917 ...</td>\n",
       "    </tr>\n",
       "    <tr>\n",
       "      <th>2</th>\n",
       "      <td>240</td>\n",
       "      <td>Clinton</td>\n",
       "      <td>035</td>\n",
       "      <td>POLYGON ((-78.09338 41.21693, -78.05358 41.273...</td>\n",
       "    </tr>\n",
       "    <tr>\n",
       "      <th>3</th>\n",
       "      <td>241</td>\n",
       "      <td>Greene</td>\n",
       "      <td>059</td>\n",
       "      <td>POLYGON ((-80.51942 39.80618, -80.51923 39.837...</td>\n",
       "    </tr>\n",
       "    <tr>\n",
       "      <th>4</th>\n",
       "      <td>242</td>\n",
       "      <td>Juniata</td>\n",
       "      <td>067</td>\n",
       "      <td>POLYGON ((-77.74677 40.38466, -77.74365 40.387...</td>\n",
       "    </tr>\n",
       "  </tbody>\n",
       "</table>\n",
       "</div>"
      ],
      "text/plain": [
       "   index       NAME COUNTYFP  \\\n",
       "0    238  Armstrong      005   \n",
       "1    239    Chester      029   \n",
       "2    240    Clinton      035   \n",
       "3    241     Greene      059   \n",
       "4    242    Juniata      067   \n",
       "\n",
       "                                            geometry  \n",
       "0  POLYGON ((-79.69293 40.66974, -79.69252 40.673...  \n",
       "1  MULTIPOLYGON (((-75.59129 39.84044, -75.58917 ...  \n",
       "2  POLYGON ((-78.09338 41.21693, -78.05358 41.273...  \n",
       "3  POLYGON ((-80.51942 39.80618, -80.51923 39.837...  \n",
       "4  POLYGON ((-77.74677 40.38466, -77.74365 40.387...  "
      ]
     },
     "execution_count": 23,
     "metadata": {},
     "output_type": "execute_result"
    }
   ],
   "source": [
    "years_to_congress_num = {\"2014\":\"114\", \"2016\":\"115\", \"2018\":\"116\"}\n",
    "year = \"<REPLACE ME>\"\n",
    "assert year in years_to_congress_num.keys()\n",
    "national_county_gdf = gpd.read_file(\"./data/county_shapefiles/cb_{}_us_county_500k\".format(year))\n",
    "state_county_gdf = national_county_gdf[national_county_gdf.STATEFP == str(state_fips)][[\"NAME\", \"COUNTYFP\", \"geometry\"]].reset_index()\n",
    "state_county_gdf.head()"
   ]
  },
  {
   "cell_type": "code",
   "execution_count": 24,
   "metadata": {},
   "outputs": [
    {
     "data": {
      "text/html": [
       "<div>\n",
       "<style scoped>\n",
       "    .dataframe tbody tr th:only-of-type {\n",
       "        vertical-align: middle;\n",
       "    }\n",
       "\n",
       "    .dataframe tbody tr th {\n",
       "        vertical-align: top;\n",
       "    }\n",
       "\n",
       "    .dataframe thead th {\n",
       "        text-align: right;\n",
       "    }\n",
       "</style>\n",
       "<table border=\"1\" class=\"dataframe\">\n",
       "  <thead>\n",
       "    <tr style=\"text-align: right;\">\n",
       "      <th></th>\n",
       "      <th>index</th>\n",
       "      <th>NAMELSAD</th>\n",
       "      <th>CD116FP</th>\n",
       "      <th>geometry</th>\n",
       "    </tr>\n",
       "  </thead>\n",
       "  <tbody>\n",
       "    <tr>\n",
       "      <th>0</th>\n",
       "      <td>316</td>\n",
       "      <td>Congressional District 1</td>\n",
       "      <td>01</td>\n",
       "      <td>POLYGON ((-75.48406 40.41845, -75.47919 40.422...</td>\n",
       "    </tr>\n",
       "    <tr>\n",
       "      <th>1</th>\n",
       "      <td>319</td>\n",
       "      <td>Congressional District 2</td>\n",
       "      <td>02</td>\n",
       "      <td>POLYGON ((-75.16130 39.96289, -75.16126 39.963...</td>\n",
       "    </tr>\n",
       "    <tr>\n",
       "      <th>2</th>\n",
       "      <td>323</td>\n",
       "      <td>Congressional District 3</td>\n",
       "      <td>03</td>\n",
       "      <td>POLYGON ((-75.28027 39.97496, -75.27951 39.975...</td>\n",
       "    </tr>\n",
       "    <tr>\n",
       "      <th>3</th>\n",
       "      <td>325</td>\n",
       "      <td>Congressional District 4</td>\n",
       "      <td>04</td>\n",
       "      <td>POLYGON ((-75.72036 40.24877, -75.71985 40.250...</td>\n",
       "    </tr>\n",
       "    <tr>\n",
       "      <th>4</th>\n",
       "      <td>326</td>\n",
       "      <td>Congressional District 5</td>\n",
       "      <td>05</td>\n",
       "      <td>POLYGON ((-75.60154 39.85596, -75.60154 39.856...</td>\n",
       "    </tr>\n",
       "  </tbody>\n",
       "</table>\n",
       "</div>"
      ],
      "text/plain": [
       "   index                  NAMELSAD CD116FP  \\\n",
       "0    316  Congressional District 1      01   \n",
       "1    319  Congressional District 2      02   \n",
       "2    323  Congressional District 3      03   \n",
       "3    325  Congressional District 4      04   \n",
       "4    326  Congressional District 5      05   \n",
       "\n",
       "                                            geometry  \n",
       "0  POLYGON ((-75.48406 40.41845, -75.47919 40.422...  \n",
       "1  POLYGON ((-75.16130 39.96289, -75.16126 39.963...  \n",
       "2  POLYGON ((-75.28027 39.97496, -75.27951 39.975...  \n",
       "3  POLYGON ((-75.72036 40.24877, -75.71985 40.250...  \n",
       "4  POLYGON ((-75.60154 39.85596, -75.60154 39.856...  "
      ]
     },
     "execution_count": 24,
     "metadata": {},
     "output_type": "execute_result"
    }
   ],
   "source": [
    "national_congressional_districts_gdf = gpd.read_file(\"./data/congressioinal_distric_shapefiles/tl_{}_us_cd{}\".format(year,years_to_congress_num[year]))\n",
    "state_congressional_districts_gdf = national_congressional_districts_gdf[national_congressional_districts_gdf.STATEFP == str(state_fips)][['NAMELSAD','CD116FP','geometry']].sort_values(by='CD116FP').reset_index()\n",
    "state_congressional_districts_gdf.head()"
   ]
  },
  {
   "cell_type": "markdown",
   "metadata": {},
   "source": [
    "### Persisting the state specific dataset.\n",
    "\n",
    "This cell makes a folder and stores state data there for your future use (including  `state_congressional_districts_gdf` and `state_county_gdf`). If the folder already exists, then this script will throw an exception to prevent an accidental overwrite."
   ]
  },
  {
   "cell_type": "code",
   "execution_count": 35,
   "metadata": {},
   "outputs": [],
   "source": [
    "path = '.data/state_specific_data'\n",
    "congressional_districts_file = '{}_{}_congressional_districts'.format(year,state)\n",
    "counties_file = '{}_{}_counties'.format(year,state)\n",
    "os.mkdir(path)\n",
    "os.mkdir(\"/\".join([path, \"shapefiles\"]))\n",
    "\n",
    "# Generate Shapefiles (for GIS inspection purposes)\n",
    "state_congressional_districts_gdf.to_file(\"/\".join([path,\"shapefiles\",congressional_districts_file]))\n",
    "state_county_gdf.to_file(\"/\".join([path,\"shapefiles\",counties_file]))"
   ]
  },
  {
   "cell_type": "markdown",
   "metadata": {},
   "source": [
    "### Import the datasets\n",
    "\n",
    "If you will be using any other statewide datasets (precinct shapefiles or election results) import them below. \n",
    "\n",
    "* `gdf` denotes \"GeoDataFrame\" which is the data structure that will be used to hold shapefiles\n",
    "* `df` denotes \"DataFrame\" which is the data structure that will be used to hold election results"
   ]
  },
  {
   "cell_type": "code",
   "execution_count": null,
   "metadata": {},
   "outputs": [],
   "source": [
    "statewide_shapefile_file_path = '<REPLACE ME>'\n",
    "statewide_shapefile_gdf = gpd.read_file(statewide_shapefile_file_path)\n",
    "statewide_shapefile_gdf.head()"
   ]
  },
  {
   "cell_type": "code",
   "execution_count": null,
   "metadata": {},
   "outputs": [],
   "source": [
    "statewide_election_results_file_path = '<REPLACE ME>'\n",
    "statewide_results_df = pd.read_csv(statewide_election_results_file_path)\n",
    "statewide_results_df.head()"
   ]
  },
  {
   "cell_type": "markdown",
   "metadata": {},
   "source": [
    "### Precondition: County ID\n",
    "\n",
    "Make a column in `statewide_shapefile_gdf` and `statewide_results_df` called `county_id` with a common naming scheme. County name or county fips code would work. I highly reccomend using county name e.g. \"Essex County\" for readablity. You can use the helper functions below to convert between county FIPS and county name."
   ]
  },
  {
   "cell_type": "code",
   "execution_count": null,
   "metadata": {},
   "outputs": [],
   "source": [
    "def get_county_name(county_fips):\n",
    "    geoid = str(state_fips) + str(county_fips).zfill(3)\n",
    "    assert(len(geoid) == 5)\n",
    "    return geoid_to_county_name[geoid]\n",
    "\n",
    "county_to_geoid = state_fip_to_county_to_geoid[int(state_fips)]\n",
    "def get_geoid(county_name):\n",
    "    return county_to_geoid[county_name]\n",
    "\n",
    "# TODO: Pass the precondition described above which takes the form of an assert statement in this cell.\n",
    "statewide_shapefile_gdf['county_id'] = '<REPLACE ME>'\n",
    "statewide_results_df['county_id'] = '<REPLACE ME>'\n",
    "n_counties = '<REPLACE ME>'\n",
    "assert 'county_id' in statewide_shapefile_gdf.columns and 'county_id' in statewide_results_df.columns\n",
    "county_set_statewide_shapefile_gdf = set(statewide_shapefile_gdf['county_id'].unique())\n",
    "county_set_statewide_results_df = set(statewide_results_df['county_id'].unique())\n",
    "print(\"statewide_shapefile_gdf unmatched counties: \", county_set_statewide_shapefile_gdf.difference(county_set_statewide_results_df))\n",
    "print(\"statewide_results_df unmatched counties: \", county_set_statewide_results_df.difference(county_set_statewide_shapefile_gdf))\n",
    "assert county_set_statewide_shapefile_gdf.intersection(county_set_statewide_results_df) != set()\n",
    "assert len(county_set_statewide_shapefile_gdf.union(county_set_statewide_results_df)) == int(n_counties)"
   ]
  },
  {
   "cell_type": "markdown",
   "metadata": {},
   "source": [
    "### Precondition: Precinct Name\n",
    "\n",
    "Identify the column that should contains the precinct names to be matched by naming it `original_precinct_name`"
   ]
  },
  {
   "cell_type": "code",
   "execution_count": null,
   "metadata": {},
   "outputs": [],
   "source": [
    "# TODO: Pass the precondition described above which takes the form of an assert statement in this cell.\n",
    "statewide_shapefile_gdf['original_precinct_name'] = '<REPLACE ME>'\n",
    "statewide_results_df['original_precinct_name'] = '<REPLACE ME>'\n",
    "assert 'original_precinct_name' in statewide_shapefile_gdf.columns and 'original_precinct_name' in statewide_results_df.columns"
   ]
  },
  {
   "cell_type": "markdown",
   "metadata": {},
   "source": [
    "The next cell makes a directory where all the county specific matching will take place and initializes each county matching folder."
   ]
  },
  {
   "cell_type": "code",
   "execution_count": null,
   "metadata": {},
   "outputs": [],
   "source": [
    "path = './matching'\n",
    "os.mkdir(path)\n",
    "\n",
    "for county_id in county_set_statewide_shapefile_gdf.union(county_set_statewide_results_df):\n",
    "    # Make a folder for this county\n",
    "    os.mkdir('/'.join([path,county_id]))\n",
    "    \n",
    "    # Make the Matching Notebook\n",
    "    notebook_filename = 'precinct_matching_county_id={}.ipynb'.format(county_id)\n",
    "    notebook_filepath = \"/\".join([path,county_id,notebook_filename])\n",
    "    copyfile('precinct_matching_framework.ipynb',notebook_filepath)\n",
    "    \n",
    "    # Read in the file\n",
    "    with open('precinct_matching_framework.ipynb', 'r') as file:\n",
    "        precinct_matching_framework = file.read()\n",
    "\n",
    "    # Customize the county_id string\n",
    "    precinct_matching_framework = precinct_matching_framework.replace('<$COUNTY_ID$>', county_id)\n",
    "\n",
    "    # Write the file out again\n",
    "    with open(notebook_filepath, 'w') as file:\n",
    "          file.write(precinct_matching_framework)\n",
    "    \n",
    "    # Initialize a README.md file\n",
    "    with open('/'.join([path,county_id,\"README.md\"]), \"a\") as f:\n",
    "        f.write(\"## Documentation for matching in `county_id` = {}\".format(county_id))\n",
    "    \n",
    "    # Generate CSV for the election results for this county\n",
    "    if county_id in county_set_statewide_results_df:\n",
    "        county_results_filename = 'election_results_county_id={}.csv'.format(county_id)\n",
    "        county_results_df = statewide_results_df[statewide_results_df.county_id == county_id]\n",
    "        county_results_df.to_csv(\"/\".join([path,county_id,county_results_filename]), index=False)\n",
    "    \n",
    "    # Generate Shapefile (for GIS inspection purposes)\n",
    "    if county_id in county_set_statewide_shapefile_gdf:\n",
    "        county_shapefile_filename = 'shapefile_county_id={}'.format(county_id)\n",
    "        county_shapefile_gdf = statewide_shapefile_gdf[statewide_shapefile_gdf.county_id == county_id]\n",
    "        county_shapefile_gdf.to_file(\"/\".join([path,county_id,county_shapefile_filename]))"
   ]
  }
 ],
 "metadata": {
  "kernelspec": {
   "display_name": "Python 3.7.6 64-bit",
   "language": "python",
   "name": "python37664bit88461838a1dc4854b1993feddc66b2f9"
  },
  "language_info": {
   "codemirror_mode": {
    "name": "ipython",
    "version": 3
   },
   "file_extension": ".py",
   "mimetype": "text/x-python",
   "name": "python",
   "nbconvert_exporter": "python",
   "pygments_lexer": "ipython3",
   "version": "3.7.6"
  }
 },
 "nbformat": 4,
 "nbformat_minor": 4
}
